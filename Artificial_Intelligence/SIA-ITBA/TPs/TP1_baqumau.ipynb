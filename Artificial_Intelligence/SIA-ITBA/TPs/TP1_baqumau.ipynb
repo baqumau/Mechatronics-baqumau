{
 "cells": [
  {
   "cell_type": "markdown",
   "metadata": {},
   "source": [
    "# Métodos de Búsqueda\n",
    "## Trabajo Práctico 1\n",
    "## Lado A - Métodos de Búsqueda\n",
    "\n",
    "\n",
    "### Ejercicio 1:\n",
    "\n",
    "Se cuenta con el ejercicio “8-puzzle” donde se parte de un tablero inicial al azar y, moviendo los números adyacentes al espacio vacío, se busca llegar al tablero solución.\n",
    "\n",
    "<figure>\n",
    "<img src=\"8-Puzzle.png\" alt=\"8-Puzzle_Fig\" style=\"height: 35vw\"/>\n",
    "<figcaption>8-Puzzle.</figcaption>\n",
    "</figure>\n",
    "\n",
    "Para este ejercicio, no es necesaria la implementación. Pensar:\n",
    "<ul>\n",
    "<li>¿Qué estructura de estado utilizarían?</li>\n",
    "Podría utlizarse como estructura de estado, la posición de cada ficha en el estado actual, especificando número de fila y número de columna de cada una de ellas. En general, es decir:\n",
    "\n",
    "P_x = {x, r, c}, siendo x = {0, 1, ..., n^2-1} el número de fichas en el tablero, r = {1, 2, ..., n} el número de filas en el juego y c = {1, 2, ..., n} el número de columnas. En nuestro caso n = 3.\n",
    "\n",
    "<li>Al menos 2 heurísticas admisibles no-triviales.</li>\n",
    "<ol>\n",
    "  <li>Mix flour, baking powder, sugar, and salt.</li>\n",
    "  <li>In another bowl, mix eggs, milk, and oil.</li>\n",
    "  <li>Stir both mixtures together.</li>\n",
    "  <li>Fill muffin tray 3/4 full.</li>\n",
    "  <li>Bake for 20 minutes.</li>\n",
    "</ol>\n",
    "\n",
    "<li>¿Qué métodos de búsqueda utilizarían, con qué heurística, y por qué?</li>\n",
    "</ul>"
   ]
  },
  {
   "cell_type": "code",
   "execution_count": 2,
   "metadata": {},
   "outputs": [
    {
     "name": "stdout",
     "output_type": "stream",
     "text": [
      "[[1, 2, 3], [8, 0, 4], [7, 6, 5]]\n"
     ]
    }
   ],
   "source": [
    "x = [[1, 2, 3], [8, 0, 4], [7, 6, 5]]\n",
    "print(x)"
   ]
  }
 ],
 "metadata": {
  "kernelspec": {
   "display_name": ".venv",
   "language": "python",
   "name": "python3"
  },
  "language_info": {
   "codemirror_mode": {
    "name": "ipython",
    "version": 3
   },
   "file_extension": ".py",
   "mimetype": "text/x-python",
   "name": "python",
   "nbconvert_exporter": "python",
   "pygments_lexer": "ipython3",
   "version": "3.11.8"
  }
 },
 "nbformat": 4,
 "nbformat_minor": 2
}
