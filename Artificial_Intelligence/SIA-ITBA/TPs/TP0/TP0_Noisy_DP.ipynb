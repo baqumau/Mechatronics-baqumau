{
 "cells": [
  {
   "cell_type": "markdown",
   "metadata": {},
   "source": [
    "## Sistemas de Inteligencia Artificial\n",
    "### TP0: Introducción al Análisis de Datos\n",
    "###### Primer Cuatrimestre 2023\n",
    "#### Introducción\n",
    "\n",
    "El objetivo de este TP es evaluar una función que depende de varios parámetros de entrada, fundamentando las conclusiones con gráficos pertinentes y explicando la metodología utilizada para llegar a cada una. Para ello será provisto un código fuente que incluye una implementación de dicha función junto con ejemplos de ejecución.\n",
    "#### Función a Evaluar\n",
    "La función a evaluar es la de captura de un Pokemon, consistente en dos parámetros de entrada: el Pokemon que se está intentando capturar y el tipo de pokebola que se pretende utilizar. La misma retorna un valor booleano correspondiente al resultado del intento de captura.\n",
    "El éxito de la captura depende del estado en el que se encuentre el Pokemon y del tipo de pokebola que se utilice. Además, algunos Pokemones son intrínsecamente más fáciles de capturar que otros. Para evaluar la función correctamente se deberan probar varias configuraciones de entrada y analizar los resultados correspondientes.\n",
    "#### Contexto\n",
    "Pokemon es una franquicia de videojuegos donde el jugador se dedica a armar un pequeño equipo de monstruos (llamados pokemones), entrenarlos peleando contra otros pokemones con el objetivo de convertirse en el mejor entrenador de pokemones de la región. Para conseguir estos pokemones el jugador tiene que explorar el medio salvaje donde estos habitan, pelear contra ellos y finalmente capturarlos utilizando herramientas particulares llamadas pokebolas.\n",
    "#### Archivos Provistos\n",
    "Toda la implementación provista se encuentra hecha en Python y contiene lo necesario para poder ejecutar la función y evaluar sus resultados.\n",
    "### pokemon.py\n",
    "Modelo de un Pokemon y la implementación de un PokemonFactory para generar nuevos Pokemones. Cada Pokemon cuenta con propiedades que son constantes e inmutables para todos los miembros de la especie y otras que son mutables y corresponden al estado actual de la instancia.\n",
    "###### Propiedad Tipo Descripción\n",
    "* current hp int Vida actual (Min: 0)\n",
    "* level int Nivel de experiencia (Min: 1, Max: 100)\n",
    "* status effect Enum(StatusEffect) Condici´on de salud\n",
    "### pokeball.py\n",
    "Modelo genérico de una pokebola y la implementación concreta de 4 pokebolas distintas:\n",
    "“PokeBall”, “UltraBall”, “FastBall” y “HeavyBall”.\n",
    "### pokemon.json\n",
    "Archivo con los parámetros inmutables de 5 especies distintas de Pokemones. Cada Pokemon cuenta con las siguientes propiedades inmutables:\n",
    "###### Propiedad Tipo Descripción\n",
    "* type string[2] Especie de Pokemon (Ej: [ROCK”, ”FIRE”] o [”FIRE, ”NONE”] )\n",
    "* stats int[6] [base hp, attack, defense, Sp. attack, Sp. defense, speed]\n",
    "* wieght float Peso del Pokemon\n",
    "* catch rate int Dificultad de captura. (Min: 0, Max: 255)\n",
    "\n",
    "### catching.py\n",
    "Implementación de la función attempt_catch que es la *función a evaluar*.\n",
    "* Input: Pokemon a capturar y el tipo de pokebola a utilizar\n",
    "* Output: un valor de tipo boolean (attempt success) que indica si el Pokemon fue capturado o no y otro valor de tipo float (capture rate) que indica la probabilidad de que el pokemon sea capturado, dependiendo de un valor aleatorio.\n"
   ]
  },
  {
   "cell_type": "code",
   "execution_count": null,
   "metadata": {},
   "outputs": [],
   "source": [
    "import pandas as pd\n",
    "import numpy as np\n",
    "import matplotlib as plt\n",
    "import matplotlib.pyplot as plt\n",
    "import seaborn as sns\n",
    "\n",
    "from src.catching import attempt_catch\n",
    "from src.pokemon import PokemonFactory, StatusEffect\n"
   ]
  },
  {
   "cell_type": "markdown",
   "metadata": {},
   "source": [
    "### Preguntas Guía\n",
    "Se desea evaluar qué factores influyen en la captura de un Pokemon teniendo en cuenta los parámetros inmutables del mismo junto con la pokebola utlizada. Para ello se deberán generar distintos gráficos que representen las respuestas a las siguientes preguntas guía:"
   ]
  },
  {
   "cell_type": "markdown",
   "metadata": {},
   "source": [
    "1. Acerca de pokebolas:\n",
    "- a) Ejecutando la función 100 veces, para cada Pokemon en condiciones ideales (HP:100 %, LVL 100) ¿Cuál es la probabilidad de captura promedio para cada pokebola?"
   ]
  },
  {
   "cell_type": "code",
   "execution_count": null,
   "metadata": {},
   "outputs": [],
   "source": [
    "import json\n",
    "\n",
    "factory = PokemonFactory(\"pokemon.json\")\n",
    "with open(\"pokemon.json\", \"r\") as c:\n",
    "            pokemon_db = json.load(c) \n",
    "pokemons = pokemon_db.keys()\n",
    "\n",
    "pokemons"
   ]
  },
  {
   "cell_type": "code",
   "execution_count": null,
   "metadata": {},
   "outputs": [],
   "source": [
    "pokeball_catch_rate = pd.DataFrame(columns=[])\n",
    "for pokemon_name in pokemons:\n",
    "    pokemon = factory.create(pokemon_name, 100, StatusEffect.NONE, 1)\n",
    "    for _ in range(100):\n",
    "        catchT1, valor1 = attempt_catch(pokemon, \"pokeball\")\n",
    "        catchT2, valor2 = attempt_catch(pokemon, \"ultraball\")\n",
    "        catchT3, valor3 = attempt_catch(pokemon, \"fastball\")\n",
    "        catchT4, valor4 = attempt_catch(pokemon, \"heavyball\")\n",
    "        new_row = {\"pokemon_name\": pokemon_name, \"hp_percentage\":1, \"pokeball\": valor1, \"Capturado_pb\":catchT1, \"ultraball\": valor2, \"Capturado_ub\":catchT2, \"fastball\": valor3, \"Capturado_fb\":catchT3, \"heavyball\": valor4,\"Capturado_hb\":catchT4  }\n",
    "        pokeball_catch_rate = pd.concat([pokeball_catch_rate, pd.DataFrame([new_row])], ignore_index=True)\n",
    "        \n",
    "columnas_numericas = pokeball_catch_rate.select_dtypes(include=['float64'])     \n",
    "promedios = columnas_numericas.mean()\n",
    "promedios\n",
    "#pokeball_catch_rate     #Tiene fijo status y hp"
   ]
  },
  {
   "cell_type": "code",
   "execution_count": null,
   "metadata": {},
   "outputs": [],
   "source": [
    "import matplotlib.pyplot as plt\n",
    "promedios_list = promedios.to_list()\n",
    "plt.bar(promedios.index, promedios_list)\n",
    "plt.xlabel('Pokeballs')\n",
    "plt.ylabel('Promedio')\n",
    "plt.title('Promedios por Pokeball')\n",
    "plt.show()"
   ]
  },
  {
   "cell_type": "markdown",
   "metadata": {},
   "source": [
    "Lo que se observa es que lo general las ultraball tiene mayor promedio de probabilidad de captura."
   ]
  },
  {
   "cell_type": "markdown",
   "metadata": {},
   "source": [
    "- b) ¿Es cierto que algunas pokebolas son más o menos efectivas dependiendo de propiedades intrínsecas de cada Pokemon? Justificar.\n",
    "Sugerencia: Comparar efectividad (success/total attemps) como proporción de la efectividad de la Pokebola básica para cada Pokemon"
   ]
  },
  {
   "cell_type": "code",
   "execution_count": null,
   "metadata": {},
   "outputs": [],
   "source": [
    "# Filtrar las columnas relevantes\n",
    "columnas_capturado = pokeball_catch_rate[['pokemon_name', 'Capturado_pb', 'Capturado_ub', 'Capturado_fb', 'Capturado_hb']]\n",
    "\n",
    "# Contar los valores True agrupados por nombre de Pokémon\n",
    "conteo_por_pokemon = ( columnas_capturado.groupby('pokemon_name').sum() )/100\n",
    "\n",
    "conteo_por_pokemon"
   ]
  },
  {
   "cell_type": "code",
   "execution_count": null,
   "metadata": {},
   "outputs": [],
   "source": [
    "df = pd.DataFrame(conteo_por_pokemon)\n",
    "# Cambiar nombres de las columnas\n",
    "nuevos_nombres = {'Capturado_pb': 'Pokeball', 'Capturado_ub': 'Ultraball', 'Capturado_fb': 'Fastball','Capturado_hb': 'Heavyball'}\n",
    "df = df.rename(columns=nuevos_nombres)\n",
    "\n",
    "# Crear figura y ejes 3D\n",
    "fig = plt.figure(figsize=(6, 8))\n",
    "ax = fig.add_subplot(111, projection='3d')\n",
    "\n",
    "# Configurar etiquetas de los ejes\n",
    "x_labels = df.index.tolist()\n",
    "y_labels = df.columns.tolist()\n",
    "\n",
    "# Agregar líneas para cada serie de datos\n",
    "for i, col in enumerate(df.columns):\n",
    "    ax.plot(range(len(df)), [i] * len(df), df[col], label=col)\n",
    "\n",
    "# Configurar etiquetas de los ejes\n",
    "ax.set_xticks(range(len(df)))\n",
    "ax.set_xticklabels(x_labels, rotation=45)\n",
    "ax.set_yticks(range(len(df.columns)))\n",
    "ax.set_yticklabels(y_labels)\n",
    "\n",
    "# Configurar etiquetas y título\n",
    "#ax.set_xlabel('Índices')\n",
    "#ax.set_ylabel('Columnas')\n",
    "ax.set_zlabel('Efectividad', labelpad=1)\n",
    "ax.set_title('Gráfico Efectividad')\n",
    "\n",
    "# Agregar leyenda\n",
    "ax.legend()\n",
    "\n",
    "# Mostrar el gráfico\n",
    "#plt.tight_layout()  # Ajustar el diseño para evitar superposición de elementos\n",
    "plt.show()\n",
    "\n"
   ]
  },
  {
   "cell_type": "markdown",
   "metadata": {},
   "source": [
    "Lo que se observa es que la efectividad de cada tipo de pokebola si depende de cual pokemos queremos capturar, dado que las características intrinsecas de cada pokemos es relevante. No es lo mismo querer capturar un caterpie en diferencia a un mewtwo."
   ]
  },
  {
   "cell_type": "markdown",
   "metadata": {},
   "source": [
    "2. Acerca del estado del Pokemon:\n",
    "- a) ¿Las condiciones de salud tienen algún efecto sobre la efectividad de la captura? Si es así, ¿Cúal es más o menos efectiva?"
   ]
  },
  {
   "cell_type": "code",
   "execution_count": null,
   "metadata": {},
   "outputs": [],
   "source": [
    "# Vario el hp_percentage\n",
    "pokeball_catch_rate2 = pd.DataFrame(columns=[])\n",
    "for pokemon_name in pokemons:\n",
    "    for hp in np.arange(0, 1, 0.1):\n",
    "        pokemon = factory.create(pokemon_name, 100, StatusEffect.NONE, hp)\n",
    "        for _ in range(100):\n",
    "            catchT1, valor1 = attempt_catch(pokemon, \"pokeball\")\n",
    "            catchT2, valor2 = attempt_catch(pokemon, \"ultraball\")\n",
    "            catchT3, valor3 = attempt_catch(pokemon, \"fastball\")\n",
    "            catchT4, valor4 =attempt_catch(pokemon, \"heavyball\")\n",
    "            new_row = {\"pokemon_name\": pokemon_name, \"hp_percentage\":hp,\"pokeball\": valor1, \"Capturado_pb\":catchT1, \"ultraball\": valor2, \"Capturado_ub\":catchT2, \"fastball\": valor3, \"Capturado_fb\":catchT3, \"heavyball\": valor4,\"Capturado_hb\":catchT4  }\n",
    "            pokeball_catch_rate2 = pd.concat([pokeball_catch_rate2, pd.DataFrame([new_row])], ignore_index=True)\n",
    "        \n",
    "#columnas_numericas2 = pokeball_catch_rate2.select_dtypes(include=['float64'])     \n",
    "#promedios2 = columnas_numericas2.mean()\n",
    "#\n",
    "#pokeball_catch_rate2"
   ]
  },
  {
   "cell_type": "code",
   "execution_count": null,
   "metadata": {},
   "outputs": [],
   "source": [
    "# Filtrar las filas con valores True en las columnas de interés\n",
    "capturado_columns = ['pokemon_name','hp_percentage','Capturado_pb', 'Capturado_ub', 'Capturado_fb', 'Capturado_hb']\n",
    "df_capturado = pokeball_catch_rate2[capturado_columns]\n",
    "\n",
    "# Contar la cantidad de True por cada pokemon_name y hp_percentage\n",
    "result = df_capturado.groupby(['pokemon_name', 'hp_percentage']).sum() / 100\n",
    "result"
   ]
  },
  {
   "cell_type": "code",
   "execution_count": null,
   "metadata": {},
   "outputs": [],
   "source": [
    "#para hace la grafica, restablezco los indices a columnas\n",
    "result1 = result.reset_index()\n",
    "result1"
   ]
  },
  {
   "cell_type": "code",
   "execution_count": null,
   "metadata": {},
   "outputs": [],
   "source": [
    "df = pd.DataFrame(result1)\n",
    "df.rename(columns={'Capturado_pb':'Pokeball',\t'Capturado_ub':'Ultraball',\t'Capturado_fb':'Fastball',\t'Capturado_hb':'Heavyball'}, inplace=True)\n",
    "#['Pokeball',\t'Ultraball',\t'Fastball',\t'Heavyball']\n",
    "# Crear una matriz de 2x2 con subgráficos\n",
    "fig, axs = plt.subplots(2, 2, figsize=(10, 8))\n",
    "\n",
    "for i, ball_type in enumerate(['Pokeball',\t'Ultraball',\t'Fastball',\t'Heavyball']):\n",
    "    row, col = divmod(i, 2)\n",
    "    for pokemon in df['pokemon_name'].unique():\n",
    "        subset = df[df['pokemon_name'] == pokemon]\n",
    "        axs[row, col].plot(subset['hp_percentage'], subset[ball_type], label=pokemon)\n",
    "    axs[row, col].set_xlabel('HP %')\n",
    "    axs[row, col].set_ylabel('Efectividad de la Bola')\n",
    "    axs[row, col].set_title(f'{ball_type.capitalize()}')\n",
    "    axs[row, col].legend()\n",
    "\n",
    "plt.tight_layout()\n",
    "plt.show()"
   ]
  },
  {
   "cell_type": "markdown",
   "metadata": {},
   "source": [
    "Lo que se observa es que en en general a medidad que aumenta el Hp % disminuye la efectividad de la bola. Aunque en el caso de la ultrabola sigue siendo medianamente efectiva."
   ]
  },
  {
   "cell_type": "markdown",
   "metadata": {},
   "source": [
    "- b) ¿Cómo afectan los puntos de vida a la efectividad de la captura?\n",
    "Sugerencia: Elegir uno o dos Pokemones y manteniendo el resto de los parámetros constantes, calcular la probabilidad de captura para distintos HP %"
   ]
  },
  {
   "cell_type": "markdown",
   "metadata": {},
   "source": [
    "- -  caterpie"
   ]
  },
  {
   "cell_type": "code",
   "execution_count": null,
   "metadata": {},
   "outputs": [],
   "source": [
    "#vario status y hp_percentage\n",
    "pokeball_catch_rate4 = pd.DataFrame([])\n",
    "status = StatusEffect\n",
    "\n",
    "pokemon_name=\"caterpie\"\n",
    "for n in np.arange(0,1,0.2):                                            #6\n",
    "    for hp in np.arange(0, 1, 0.1):                         #10\n",
    "        pokemon = factory.create(pokemon_name, 100, StatusEffect.NONE, hp)       \n",
    "        for _ in range(100):\n",
    "            catchT1, valor1 = attempt_catch(pokemon, \"pokeball\",n)\n",
    "            catchT2, valor2 = attempt_catch(pokemon, \"ultraball\",n)\n",
    "            catchT3, valor3 = attempt_catch(pokemon, \"fastball\",n)\n",
    "            catchT4, valor4 =attempt_catch(pokemon, \"heavyball\",n)\n",
    "            new_row = {\"pokemon_name\": pokemon_name, \"noise\":n, \"hp_percentage\":hp, \"pokeball\": valor1, \"Capturado_pb\":catchT1, \"ultraball\": valor2, \"Capturado_ub\":catchT2, \"fastball\": valor3, \"Capturado_fb\":catchT3, \"heavyball\": valor4,\"Capturado_hb\":catchT4  }\n",
    "            pokeball_catch_rate4 = pd.concat([pokeball_catch_rate4, pd.DataFrame([new_row])], ignore_index=True)\n",
    "\n",
    "# Filtrar las filas con valores True en las columnas de interés\n",
    "capturado_columns = ['noise', 'hp_percentage','Capturado_pb', 'Capturado_ub', 'Capturado_fb', 'Capturado_hb']\n",
    "df_capturado = pokeball_catch_rate4[capturado_columns]\n",
    "\n",
    "# Contar la cantidad de True por cada pokemon_name y hp_percentage\n",
    "result3 = df_capturado.groupby(['noise', 'hp_percentage']).sum() / 100\n",
    "#result3\n",
    "pokeball_catch_rate4\n"
   ]
  },
  {
   "cell_type": "code",
   "execution_count": null,
   "metadata": {},
   "outputs": [],
   "source": [
    "#para hace la grafica, restablezco los indices a columnas\n",
    "result3g = result3.reset_index()\n",
    "result3g"
   ]
  },
  {
   "cell_type": "code",
   "execution_count": null,
   "metadata": {},
   "outputs": [],
   "source": [
    "df = pd.DataFrame(result3g)\n",
    "df.rename(columns={'Capturado_pb':'Pokeball',\t'Capturado_ub':'Ultraball',\t'Capturado_fb':'Fastball',\t'Capturado_hb':'Heavyball'}, inplace=True)\n",
    "#['Pokeball',\t'Ultraball',\t'Fastball',\t'Heavyball']\n",
    "# Crear una matriz de 2x2 con subgráficos\n",
    "fig, axs = plt.subplots(2, 2, figsize=(10, 8))\n",
    "\n",
    "for i, ball_type in enumerate(['Pokeball',\t'Ultraball',\t'Fastball',\t'Heavyball']):\n",
    "    row, col = divmod(i, 2)\n",
    "    for n in df['noise'].unique():\n",
    "        subset = df[df['noise'] == n]\n",
    "        axs[row, col].plot(subset['hp_percentage'], subset[ball_type], label=n)\n",
    "    axs[row, col].set_xlabel('HP %')\n",
    "    axs[row, col].set_ylabel('Efectividad de la Bola')\n",
    "    axs[row, col].set_title(f'{ball_type.capitalize()}')\n",
    "    axs[row, col].legend()\n",
    "\n",
    "plt.tight_layout()\n",
    "plt.show()"
   ]
  },
  {
   "cell_type": "markdown",
   "metadata": {},
   "source": [
    "- - jolteon"
   ]
  },
  {
   "cell_type": "code",
   "execution_count": null,
   "metadata": {},
   "outputs": [],
   "source": []
  },
  {
   "cell_type": "code",
   "execution_count": null,
   "metadata": {},
   "outputs": [],
   "source": [
    "#vario status y hp_percentage\n",
    "pokeball_catch_rate5 = pd.DataFrame([])\n",
    "status = StatusEffect\n",
    "\n",
    "pokemon_name=\"jolteon\"\n",
    "for n in np.arange(0,1,0.2):                                            #6\n",
    "    for hp in np.arange(0, 1, 0.1):                         #10\n",
    "        pokemon = factory.create(pokemon_name, 100, StatusEffect.NONE, hp)       \n",
    "        for _ in range(100):\n",
    "            catchT1, valor1 = attempt_catch(pokemon, \"pokeball\",n)\n",
    "            catchT2, valor2 = attempt_catch(pokemon, \"ultraball\",n)\n",
    "            catchT3, valor3 = attempt_catch(pokemon, \"fastball\",n)\n",
    "            catchT4, valor4 =attempt_catch(pokemon, \"heavyball\",n)\n",
    "            new_row = {\"pokemon_name\": pokemon_name, \"noise\":n, \"hp_percentage\":hp, \"pokeball\": valor1, \"Capturado_pb\":catchT1, \"ultraball\": valor2, \"Capturado_ub\":catchT2, \"fastball\": valor3, \"Capturado_fb\":catchT3, \"heavyball\": valor4,\"Capturado_hb\":catchT4  }\n",
    "            pokeball_catch_rate5 = pd.concat([pokeball_catch_rate5, pd.DataFrame([new_row])], ignore_index=True)\n",
    "\n",
    "# Filtrar las filas con valores True en las columnas de interés\n",
    "capturado_columns = ['noise', 'hp_percentage','Capturado_pb', 'Capturado_ub', 'Capturado_fb', 'Capturado_hb']\n",
    "df_capturado = pokeball_catch_rate5[capturado_columns]\n",
    "\n",
    "# Contar la cantidad de True por cada pokemon_name y hp_percentage\n",
    "result4 = df_capturado.groupby(['noise', 'hp_percentage']).sum() / 100\n",
    "#result3\n",
    "pokeball_catch_rate5\n"
   ]
  },
  {
   "cell_type": "code",
   "execution_count": null,
   "metadata": {},
   "outputs": [],
   "source": [
    "#para hace la grafica, restablezco los indices a columnas\n",
    "result4g = result4.reset_index()\n",
    "result4g"
   ]
  },
  {
   "cell_type": "code",
   "execution_count": null,
   "metadata": {},
   "outputs": [],
   "source": [
    "df = pd.DataFrame(result4g)\n",
    "df.rename(columns={'Capturado_pb':'Pokeball',\t'Capturado_ub':'Ultraball',\t'Capturado_fb':'Fastball',\t'Capturado_hb':'Heavyball'}, inplace=True)\n",
    "#['Pokeball',\t'Ultraball',\t'Fastball',\t'Heavyball']\n",
    "# Crear una matriz de 2x2 con subgráficos\n",
    "fig, axs = plt.subplots(2, 2, figsize=(10, 8))\n",
    "\n",
    "for i, ball_type in enumerate(['Pokeball',\t'Ultraball',\t'Fastball',\t'Heavyball']):\n",
    "    row, col = divmod(i, 2)\n",
    "    for n in df['noise'].unique():\n",
    "        subset = df[df['noise'] == n]\n",
    "        axs[row, col].plot(subset['hp_percentage'], subset[ball_type], label=n)\n",
    "    axs[row, col].set_xlabel('HP %')\n",
    "    axs[row, col].set_ylabel('Efectividad de la Bola')\n",
    "    axs[row, col].set_title(f'{ball_type.capitalize()}')\n",
    "    axs[row, col].legend()\n",
    "\n",
    "plt.tight_layout()\n",
    "plt.show()"
   ]
  },
  {
   "cell_type": "markdown",
   "metadata": {},
   "source": [
    "Seteando el valor de ruido se observa que: BLA BLA BLA BLA"
   ]
  },
  {
   "cell_type": "markdown",
   "metadata": {},
   "source": [
    "- c) ¿Qué parámetros son los que más afectan la probabilidad de captura?"
   ]
  },
  {
   "cell_type": "code",
   "execution_count": null,
   "metadata": {},
   "outputs": [],
   "source": [
    "#vario status y hp_percentage\n",
    "pokeball_catch_rate6 = pd.DataFrame([])\n",
    "status = StatusEffect\n",
    "\n",
    "for pokemon_name in pokemons:\n",
    "    for n in np.arange(0,1,0.1):                                             #6\n",
    "        for hp in np.arange(0, 1, 0.1):                         #10\n",
    "            pokemon = factory.create(pokemon_name, 100, StatusEffect.NONE, hp)       \n",
    "            for _ in range(1):\n",
    "                catchT1, valor1 = attempt_catch(pokemon, \"pokeball\",n)\n",
    "                catchT2, valor2 = attempt_catch(pokemon, \"ultraball\",n)\n",
    "                catchT3, valor3 = attempt_catch(pokemon, \"fastball\",n)\n",
    "                catchT4, valor4 =attempt_catch(pokemon, \"heavyball\",n)\n",
    "                new_row = {\"pokemon_name\": pokemon_name, \"noise\":n, \"hp_percentage\":hp, \"pokeball\": valor1, \"Capturado_pb\":catchT1, \"ultraball\": valor2, \"Capturado_ub\":catchT2, \"fastball\": valor3, \"Capturado_fb\":catchT3, \"heavyball\": valor4,\"Capturado_hb\":catchT4  }\n",
    "                pokeball_catch_rate6 = pd.concat([pokeball_catch_rate6, pd.DataFrame([new_row])], ignore_index=True)\n",
    "\n",
    "# Filtrar las filas con valores True en las columnas de interés\n",
    "#capturado_columns = ['status', 'hp_percentage','Capturado_pb', 'Capturado_ub', 'Capturado_fb', 'Capturado_hb']\n",
    "#df_capturado = pokeball_catch_rate6[capturado_columns]\n",
    "\n",
    "# Contar la cantidad de True por cada pokemon_name y hp_percentage\n",
    "#result4 = df_capturado.groupby(['status', 'hp_percentage']).sum() / 100\n",
    "#result4\n",
    "pokeball_catch_rate6"
   ]
  },
  {
   "cell_type": "code",
   "execution_count": null,
   "metadata": {},
   "outputs": [],
   "source": [
    "df_pokeball = pokeball_catch_rate6[['pokemon_name','noise','hp_percentage','pokeball']]\n",
    "df_pokeball"
   ]
  },
  {
   "cell_type": "code",
   "execution_count": null,
   "metadata": {},
   "outputs": [],
   "source": [
    "dfg = pd.DataFrame(df_pokeball)\n",
    "\n",
    "j=0\n",
    "for p in pokemons:\n",
    "    dfg['pokemon_name'] = dfg['pokemon_name'].replace(p, j)\n",
    "    j=j+1\n",
    "dfg"
   ]
  },
  {
   "cell_type": "code",
   "execution_count": null,
   "metadata": {},
   "outputs": [],
   "source": [
    "# Crea una figura 3D\n",
    "fig = plt.figure(figsize=(10, 8))\n",
    "ax = fig.add_subplot(111, projection='3d')\n",
    "\n",
    "# Grafica los puntos\n",
    "scatter = ax.scatter(dfg['pokemon_name'], dfg['noise'], dfg['pokeball'], c=dfg['hp_percentage'], cmap='viridis')\n",
    "\n",
    "# Configura los ejes\n",
    "#ax.set_xlabel('Pokemon name')\n",
    "ax.set_ylabel('Ruido')\n",
    "ax.set_zlabel('Pokeball Value',labelpad=1)\n",
    "\n",
    "ax.set_title('Gráfico de Prop.de Capt. de Pokeball')\n",
    "\n",
    "# Configurar etiquetas de los ejes\n",
    "x_labels = pokemons\n",
    "#y_labels = dfg['noise'].unique()\n",
    "y_labels = ['0.0','0.1','0.2','0.3','0.4','0.5','0.6','0.7','0.8','0.9']\n",
    "\n",
    "# Agrega una leyenda para el color\n",
    "legend = ax.legend(*scatter.legend_elements(), title='HP %')\n",
    "ax.add_artist(legend)\n",
    "# Configurar etiquetas de los ejes\n",
    "ax.set_xticks(range(5))\n",
    "ax.set_xticklabels(x_labels, rotation=45)\n",
    "#ax.set_yticks(range(10))\n",
    "#ax.set_yticklabels(y_labels)\n",
    "\n",
    "\n",
    "# Muestra el gráfico\n",
    "plt.show()"
   ]
  },
  {
   "cell_type": "markdown",
   "metadata": {},
   "source": [
    "En el grafico de arriba comparo los diferentes parametros (de nuevo varie el status y no el noise)\n",
    "Se observa lo siguiente:\n",
    "BLA BLA BLA."
   ]
  },
  {
   "cell_type": "markdown",
   "metadata": {},
   "source": [
    "A continuación realizao un analisis para saber como varia cada variable en relación a la otra.\n",
    "Esto es: analisis de covarianza y correlación. Enfocandome en la correlación para saber como la Probabilidad de Captura varia en relación a las demas parametros mutables."
   ]
  },
  {
   "cell_type": "code",
   "execution_count": null,
   "metadata": {},
   "outputs": [],
   "source": [
    "dfg.rename(columns={'pokemon_name': 'Pokemon','hp_percentage':'HP %', 'pokeball':'Prop.Capt.'}, inplace=True)"
   ]
  },
  {
   "cell_type": "code",
   "execution_count": null,
   "metadata": {},
   "outputs": [],
   "source": [
    "covariance_matrix = dfg.cov()\n",
    "covariance_matrix"
   ]
  },
  {
   "cell_type": "code",
   "execution_count": null,
   "metadata": {},
   "outputs": [],
   "source": [
    "sns.heatmap(covariance_matrix, annot=True, cmap='coolwarm', fmt='.2f')\n",
    "plt.title('Matriz de Covarianza de una Pokeball')\n",
    "plt.show()"
   ]
  },
  {
   "cell_type": "code",
   "execution_count": null,
   "metadata": {},
   "outputs": [],
   "source": [
    "correlation_matrix = dfg.corr()\n",
    "correlation_matrix"
   ]
  },
  {
   "cell_type": "code",
   "execution_count": null,
   "metadata": {},
   "outputs": [],
   "source": [
    "sns.heatmap(correlation_matrix, annot=True, cmap='coolwarm', fmt='.2f')\n",
    "plt.title('Matriz de Correlación de una Pokeball')\n",
    "plt.show()"
   ]
  },
  {
   "cell_type": "markdown",
   "metadata": {},
   "source": [
    "Leyendo las celdas de la fila inferior correspondiente a Prop.Capt, se observa que el mayor valor de correlación es \"status\".\n",
    "Esto es para PokeBall"
   ]
  },
  {
   "cell_type": "markdown",
   "metadata": {},
   "source": [
    "Leyendo las celdas de la fila inferior correspondiente a Prop.Capt, se observa que el mayor valor de correlación es \"status\".\n",
    "Esto es para UltraBall"
   ]
  },
  {
   "cell_type": "code",
   "execution_count": null,
   "metadata": {},
   "outputs": [],
   "source": [
    "#PARA FASTBALL\n",
    "df_fastball = pokeball_catch_rate6[['pokemon_name','noise','hp_percentage','fastball']]\n",
    "\n",
    "dfg = pd.DataFrame(df_fastball)\n",
    "\n",
    "\n",
    "i=0\n",
    "for p in pokemons:\n",
    "    dfg['pokemon_name'] = dfg['pokemon_name'].replace(p, i)\n",
    "    i=i+1\n",
    "\n",
    "dfg.rename(columns={'pokemon_name': 'Pokemon','hp_percentage':'HP %', 'fastball':'Prop.Capt.'}, inplace=True)\n",
    "\n",
    "correlation_matrix = dfg.corr()\n",
    "\n",
    "sns.heatmap(correlation_matrix, annot=True, cmap='coolwarm', fmt='.2f')\n",
    "plt.title('Matriz de Correlación de una Fastball')\n",
    "plt.show()"
   ]
  },
  {
   "cell_type": "markdown",
   "metadata": {},
   "source": [
    "Leyendo las celdas de la fila inferior correspondiente a Prop.Capt, se observa que el mayor valor de correlación es \"status\".\n",
    "Esto es para FastBall"
   ]
  },
  {
   "cell_type": "code",
   "execution_count": null,
   "metadata": {},
   "outputs": [],
   "source": [
    "#PARA HEAVYBALL\n",
    "df_heavyball = pokeball_catch_rate6[['pokemon_name','noise','hp_percentage','heavyball']]\n",
    "\n",
    "dfg = pd.DataFrame(df_heavyball)\n",
    "\n",
    "i=0\n",
    "for p in pokemons:\n",
    "    dfg['pokemon_name'] = dfg['pokemon_name'].replace(p, i)\n",
    "    i=i+1\n",
    "\n",
    "dfg.rename(columns={'pokemon_name': 'Pokemon','hp_percentage':'HP %', 'heavyball':'Prop.Capt.'}, inplace=True)\n",
    "\n",
    "correlation_matrix = dfg.corr()\n",
    "\n",
    "sns.heatmap(correlation_matrix, annot=True, cmap='coolwarm', fmt='.2f')\n",
    "plt.title('Matriz de Correlación de una Heavyball')\n",
    "plt.show()"
   ]
  },
  {
   "cell_type": "markdown",
   "metadata": {},
   "source": [
    "Leyendo las celdas de la fila inferior correspondiente a Prop.Capt, se observa que el mayor valor de correlación es \"status\".\n",
    "Esto es para HeavyBall."
   ]
  },
  {
   "cell_type": "markdown",
   "metadata": {},
   "source": [
    "- d) Teniendo en cuenta uno o dos pokemones distintos: ¿Qué combinación de condiciones (propiedades mutables) y pokebola conviene utilizar para capturarlos?"
   ]
  },
  {
   "cell_type": "markdown",
   "metadata": {},
   "source": [
    "Recordando cual parametros son mutables y cuales no:\n",
    "-                no mutable     name: str,\n",
    "-                no mutable     type: Tuple[Type, Type],        # Especie\n",
    "*                mutable        current_hp : int,               # Vida actual    *\n",
    "*                mutable        status_effect : StatusEffect,   # Condición de salud\n",
    "*                mutable        level : int,                    # Nivel de experiencia\n",
    "-                no mutable     stats: Stats,                   # [base hp, attack, defense, Sp. attack, Sp. defense, speed]\n",
    "-                no mutable     catch_rate: int,                # Dificultad de captura. (Min: 0, Max: 259\n",
    "-                no mutable     weight: float,                  # Peso"
   ]
  },
  {
   "cell_type": "markdown",
   "metadata": {},
   "source": [
    "Lo que vi leyendo el codigo, es que: el level no afecta a la probibildad / efectividad de captura. ¿ O estoy equivocado ?"
   ]
  },
  {
   "cell_type": "code",
   "execution_count": null,
   "metadata": {},
   "outputs": [],
   "source": [
    "conteo_por_pokemon_t = conteo_por_pokemon.reset_index()\n",
    "conteo_por_pokemon_t\n"
   ]
  },
  {
   "cell_type": "code",
   "execution_count": null,
   "metadata": {},
   "outputs": [],
   "source": []
  },
  {
   "cell_type": "markdown",
   "metadata": {},
   "source": [
    "- e) A partir del punto anterior, ¿sería efectiva otra combinación de parámetros teniendo en cuenta un nivel del pokemon más bajo (o más alto)?"
   ]
  },
  {
   "cell_type": "code",
   "execution_count": null,
   "metadata": {},
   "outputs": [],
   "source": []
  }
 ],
 "metadata": {
  "kernelspec": {
   "display_name": "Python 3",
   "language": "python",
   "name": "python3"
  },
  "language_info": {
   "codemirror_mode": {
    "name": "ipython",
    "version": 3
   },
   "file_extension": ".py",
   "mimetype": "text/x-python",
   "name": "python",
   "nbconvert_exporter": "python",
   "pygments_lexer": "ipython3",
   "version": "3.11.8"
  }
 },
 "nbformat": 4,
 "nbformat_minor": 2
}
